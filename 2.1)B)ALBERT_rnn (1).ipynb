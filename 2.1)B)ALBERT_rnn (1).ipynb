{
 "cells": [
  {
   "cell_type": "code",
   "execution_count": 1,
   "metadata": {
    "colab": {
     "base_uri": "https://localhost:8080/"
    },
    "id": "f0YStwjX5jiZ",
    "outputId": "d998d62e-269d-47ac-9e7d-f61ad63a6099"
   },
   "outputs": [
    {
     "name": "stdout",
     "output_type": "stream",
     "text": [
      "Defaulting to user installation because normal site-packages is not writeable\n",
      "Requirement already satisfied: datasets in /user/HS400/dd00830/.local/lib/python3.10/site-packages (2.19.0)\n",
      "Requirement already satisfied: aiohttp in /user/HS400/dd00830/.local/lib/python3.10/site-packages (from datasets) (3.9.5)\n",
      "Requirement already satisfied: requests>=2.19.0 in /usr/local/lib/python3.10/dist-packages (from datasets) (2.31.0)\n",
      "Requirement already satisfied: dill<0.3.9,>=0.3.0 in /user/HS400/dd00830/.local/lib/python3.10/site-packages (from datasets) (0.3.8)\n",
      "Requirement already satisfied: xxhash in /user/HS400/dd00830/.local/lib/python3.10/site-packages (from datasets) (3.4.1)\n",
      "Requirement already satisfied: pyyaml>=5.1 in /usr/lib/python3/dist-packages (from datasets) (5.4.1)\n",
      "Requirement already satisfied: tqdm>=4.62.1 in /user/HS400/dd00830/.local/lib/python3.10/site-packages (from datasets) (4.66.2)\n",
      "Requirement already satisfied: pyarrow>=12.0.0 in /user/HS400/dd00830/.local/lib/python3.10/site-packages (from datasets) (16.0.0)\n",
      "Requirement already satisfied: numpy>=1.17 in /usr/local/lib/python3.10/dist-packages (from datasets) (1.26.0)\n",
      "Requirement already satisfied: packaging in /usr/lib/python3/dist-packages (from datasets) (21.3)\n",
      "Requirement already satisfied: pandas in /usr/local/lib/python3.10/dist-packages (from datasets) (2.1.0)\n",
      "Requirement already satisfied: multiprocess in /user/HS400/dd00830/.local/lib/python3.10/site-packages (from datasets) (0.70.16)\n",
      "Requirement already satisfied: filelock in /user/HS400/dd00830/.local/lib/python3.10/site-packages (from datasets) (3.13.1)\n",
      "Requirement already satisfied: pyarrow-hotfix in /user/HS400/dd00830/.local/lib/python3.10/site-packages (from datasets) (0.6)\n",
      "Requirement already satisfied: huggingface-hub>=0.21.2 in /user/HS400/dd00830/.local/lib/python3.10/site-packages (from datasets) (0.21.4)\n",
      "Requirement already satisfied: fsspec[http]<=2024.3.1,>=2023.1.0 in /user/HS400/dd00830/.local/lib/python3.10/site-packages (from datasets) (2024.2.0)\n",
      "Requirement already satisfied: aiosignal>=1.1.2 in /user/HS400/dd00830/.local/lib/python3.10/site-packages (from aiohttp->datasets) (1.3.1)\n",
      "Requirement already satisfied: attrs>=17.3.0 in /usr/local/lib/python3.10/dist-packages (from aiohttp->datasets) (23.1.0)\n",
      "Requirement already satisfied: async-timeout<5.0,>=4.0 in /user/HS400/dd00830/.local/lib/python3.10/site-packages (from aiohttp->datasets) (4.0.3)\n",
      "Requirement already satisfied: frozenlist>=1.1.1 in /user/HS400/dd00830/.local/lib/python3.10/site-packages (from aiohttp->datasets) (1.4.1)\n",
      "Requirement already satisfied: multidict<7.0,>=4.5 in /user/HS400/dd00830/.local/lib/python3.10/site-packages (from aiohttp->datasets) (6.0.5)\n",
      "Requirement already satisfied: yarl<2.0,>=1.0 in /user/HS400/dd00830/.local/lib/python3.10/site-packages (from aiohttp->datasets) (1.9.4)\n",
      "Requirement already satisfied: typing-extensions>=3.7.4.3 in /usr/local/lib/python3.10/dist-packages (from huggingface-hub>=0.21.2->datasets) (4.8.0)\n",
      "Requirement already satisfied: charset-normalizer<4,>=2 in /usr/local/lib/python3.10/dist-packages (from requests>=2.19.0->datasets) (3.2.0)\n",
      "Requirement already satisfied: certifi>=2017.4.17 in /usr/lib/python3/dist-packages (from requests>=2.19.0->datasets) (2020.6.20)\n",
      "Requirement already satisfied: idna<4,>=2.5 in /usr/lib/python3/dist-packages (from requests>=2.19.0->datasets) (3.3)\n",
      "Requirement already satisfied: urllib3<3,>=1.21.1 in /usr/lib/python3/dist-packages (from requests>=2.19.0->datasets) (1.26.5)\n",
      "Requirement already satisfied: python-dateutil>=2.8.2 in /usr/local/lib/python3.10/dist-packages (from pandas->datasets) (2.8.2)\n",
      "Requirement already satisfied: tzdata>=2022.1 in /usr/local/lib/python3.10/dist-packages (from pandas->datasets) (2023.3)\n",
      "Requirement already satisfied: pytz>=2020.1 in /usr/lib/python3/dist-packages (from pandas->datasets) (2022.1)\n",
      "Requirement already satisfied: six>=1.5 in /usr/lib/python3/dist-packages (from python-dateutil>=2.8.2->pandas->datasets) (1.16.0)\n"
     ]
    }
   ],
   "source": [
    "!pip install datasets"
   ]
  },
  {
   "cell_type": "code",
   "execution_count": 3,
   "metadata": {
    "colab": {
     "base_uri": "https://localhost:8080/",
     "height": 567
    },
    "id": "0apfl7Vn6Zqp",
    "outputId": "070a966f-f97d-4c8b-9182-dd731f8c4580"
   },
   "outputs": [
    {
     "name": "stderr",
     "output_type": "stream",
     "text": [
      "Some weights of the PyTorch model were not used when initializing the TF 2.0 model TFAlbertModel: ['predictions.LayerNorm.weight', 'predictions.LayerNorm.bias', 'predictions.decoder.bias', 'predictions.bias', 'predictions.dense.bias', 'predictions.dense.weight']\n",
      "- This IS expected if you are initializing TFAlbertModel from a PyTorch model trained on another task or with another architecture (e.g. initializing a TFBertForSequenceClassification model from a BertForPreTraining model).\n",
      "- This IS NOT expected if you are initializing TFAlbertModel from a PyTorch model that you expect to be exactly identical (e.g. initializing a TFBertForSequenceClassification model from a BertForSequenceClassification model).\n",
      "All the weights of TFAlbertModel were initialized from the PyTorch model.\n",
      "If your task is similar to the task the model of the checkpoint was trained on, you can already use TFAlbertModel for predictions without further training.\n"
     ]
    },
    {
     "name": "stdout",
     "output_type": "stream",
     "text": [
      "Epoch 1/10\n",
      "WARNING:tensorflow:Gradients do not exist for variables ['tf_albert_model_1/albert/pooler/kernel:0', 'tf_albert_model_1/albert/pooler/bias:0'] when minimizing the loss. If you're using `model.compile()`, did you forget to provide a `loss` argument?\n",
      "WARNING:tensorflow:Gradients do not exist for variables ['tf_albert_model_1/albert/pooler/kernel:0', 'tf_albert_model_1/albert/pooler/bias:0'] when minimizing the loss. If you're using `model.compile()`, did you forget to provide a `loss` argument?\n",
      "WARNING:tensorflow:Gradients do not exist for variables ['tf_albert_model_1/albert/pooler/kernel:0', 'tf_albert_model_1/albert/pooler/bias:0'] when minimizing the loss. If you're using `model.compile()`, did you forget to provide a `loss` argument?\n",
      "WARNING:tensorflow:Gradients do not exist for variables ['tf_albert_model_1/albert/pooler/kernel:0', 'tf_albert_model_1/albert/pooler/bias:0'] when minimizing the loss. If you're using `model.compile()`, did you forget to provide a `loss` argument?\n",
      "34/34 [==============================] - 256s 7s/step - loss: 0.4031 - accuracy: 0.1437 - val_loss: 0.3562 - val_accuracy: 0.0794\n",
      "Epoch 2/10\n",
      "34/34 [==============================] - 229s 7s/step - loss: 0.3576 - accuracy: 0.1017 - val_loss: 0.3468 - val_accuracy: 0.0794\n",
      "Epoch 3/10\n",
      "34/34 [==============================] - 240s 7s/step - loss: 0.3554 - accuracy: 0.1017 - val_loss: 0.3471 - val_accuracy: 0.0794\n",
      "Epoch 4/10\n",
      "34/34 [==============================] - 240s 7s/step - loss: 0.3535 - accuracy: 0.1017 - val_loss: 0.3452 - val_accuracy: 0.0794\n",
      "Epoch 5/10\n",
      "34/34 [==============================] - 246s 7s/step - loss: 0.3527 - accuracy: 0.1017 - val_loss: 0.3464 - val_accuracy: 0.0794\n",
      "Epoch 6/10\n",
      "34/34 [==============================] - 236s 7s/step - loss: 0.3523 - accuracy: 0.1017 - val_loss: 0.3459 - val_accuracy: 0.0794\n",
      "Epoch 7/10\n",
      "34/34 [==============================] - 233s 7s/step - loss: 0.3525 - accuracy: 0.1017 - val_loss: 0.3456 - val_accuracy: 0.0794\n",
      "Epoch 8/10\n",
      "34/34 [==============================] - 237s 7s/step - loss: 0.3524 - accuracy: 0.1017 - val_loss: 0.3455 - val_accuracy: 0.0794\n",
      "Epoch 9/10\n",
      "34/34 [==============================] - 238s 7s/step - loss: 0.3544 - accuracy: 0.1017 - val_loss: 0.3464 - val_accuracy: 0.0794\n",
      "Epoch 10/10\n",
      "34/34 [==============================] - 229s 7s/step - loss: 0.3613 - accuracy: 0.1017 - val_loss: 0.3460 - val_accuracy: 0.0794\n",
      "Test Loss: 0.42485710978507996\n",
      "Test Accuracy: 0.1437908560037613\n",
      "5/5 [==============================] - 17s 2s/step\n",
      "Confusion Matrix:\n",
      "[[131   0]\n",
      " [ 22   0]]\n",
      "Classification Report:\n",
      "              precision    recall  f1-score   support\n",
      "\n",
      "        B-AC       0.86      1.00      0.92       131\n",
      "        B-LF       0.74      1.00      0.85       113\n",
      "         B-O       1.00      1.00      1.00       153\n",
      "        I-LF       0.65      1.00      0.79       100\n",
      "\n",
      "   micro avg       0.81      1.00      0.90       497\n",
      "   macro avg       0.81      1.00      0.89       497\n",
      "weighted avg       0.83      1.00      0.90       497\n",
      " samples avg       0.81      1.00      0.86       497\n",
      "\n",
      "Accuracy: 0.6535947712418301\n"
     ]
    }
   ],
   "source": [
    "from datasets import load_dataset\n",
    "from sklearn.preprocessing import MultiLabelBinarizer\n",
    "import tensorflow as tf\n",
    "from transformers import AlbertTokenizer, TFAlbertModel\n",
    "from sklearn.metrics import confusion_matrix, classification_report, accuracy_score, f1_score\n",
    "\n",
    "# Load dataset\n",
    "dataset = load_dataset(\"surrey-nlp/PLOD-CW\")\n",
    "\n",
    "# Extract features and labels\n",
    "train_data = dataset[\"train\"]\n",
    "val_data = dataset[\"validation\"]\n",
    "test_data = dataset[\"test\"]\n",
    "\n",
    "X_train = train_data[\"tokens\"]\n",
    "y_train = train_data[\"ner_tags\"]\n",
    "X_val = val_data[\"tokens\"]\n",
    "y_val = val_data[\"ner_tags\"]\n",
    "X_test = test_data[\"tokens\"]\n",
    "y_test = test_data[\"ner_tags\"]\n",
    "\n",
    "X_train = [\" \".join(tokens) for tokens in train_data[\"tokens\"]]\n",
    "X_val = [\" \".join(tokens) for tokens in val_data[\"tokens\"]]\n",
    "X_test = [\" \".join(tokens) for tokens in test_data[\"tokens\"]]\n",
    "\n",
    "# Convert multi-labels to binary format\n",
    "mlb = MultiLabelBinarizer()\n",
    "y_train_binarized = mlb.fit_transform(y_train)\n",
    "y_val_binarized = mlb.transform(y_val)\n",
    "y_test_binarized = mlb.transform(y_test)\n",
    "\n",
    "# Initialize the ALBERT tokenizer and model\n",
    "tokenizer = AlbertTokenizer.from_pretrained(\"albert-base-v2\")\n",
    "albert_model = TFAlbertModel.from_pretrained(\"albert-base-v2\")\n",
    "\n",
    "def tokenize_and_encode(sentences):\n",
    "    # Ensure that sentences is a list of strings\n",
    "    if not all(isinstance(sentence, str) for sentence in sentences):\n",
    "        raise ValueError(\"All items in 'sentences' must be of type str.\")\n",
    "    # Tokenization and encoding\n",
    "    tokenized = tokenizer(sentences, padding='max_length', truncation=True, max_length=128, return_tensors=\"tf\")\n",
    "    return tokenized\n",
    "\n",
    "# Tokenize text data\n",
    "train_tokenized = tokenize_and_encode(X_train)\n",
    "val_tokenized = tokenize_and_encode(X_val)\n",
    "test_tokenized = tokenize_and_encode(X_test)\n",
    "\n",
    "# Define the neural network model (ALBERT + RNN)\n",
    "input_ids = tf.keras.layers.Input(shape=(128,), dtype=tf.int32, name=\"input_ids\")\n",
    "attention_mask = tf.keras.layers.Input(shape=(128,), dtype=tf.int32, name=\"attention_mask\")\n",
    "\n",
    "# Get the embeddings from ALBERT\n",
    "albert_output = albert_model(input_ids=input_ids, attention_mask=attention_mask)[0]  \n",
    "\n",
    "# Add an RNN layer on top of the ALBERT model\n",
    "x = tf.keras.layers.Bidirectional(tf.keras.layers.LSTM(64, return_sequences=False))(albert_output)\n",
    "outputs = tf.keras.layers.Dense(y_train_binarized.shape[1], activation='sigmoid')(x)\n",
    "\n",
    "model = tf.keras.Model(inputs=[input_ids, attention_mask], outputs=outputs)\n",
    "\n",
    "# Compile the model\n",
    "model.compile(optimizer='adam', loss='binary_crossentropy', metrics=['accuracy'])\n",
    "\n",
    "# Train the model\n",
    "history = model.fit(\n",
    "    {'input_ids': train_tokenized['input_ids'], 'attention_mask': train_tokenized['attention_mask']},\n",
    "    y_train_binarized,\n",
    "    validation_data=(\n",
    "        {'input_ids': val_tokenized['input_ids'], 'attention_mask': val_tokenized['attention_mask']},\n",
    "        y_val_binarized),\n",
    "    epochs=10,\n",
    "    batch_size=32,\n",
    "    verbose=1\n",
    ")\n",
    "\n",
    "# Evaluate the model on the test set\n",
    "test_scores = model.evaluate({'input_ids': test_tokenized['input_ids'], 'attention_mask': test_tokenized['attention_mask']}, y_test_binarized, verbose=0)\n",
    "print(\"Test Loss:\", test_scores[0])\n",
    "print(\"Test Accuracy:\", test_scores[1])\n",
    "\n",
    "# Predict labels for the test set\n",
    "y_pred_proba = model.predict({'input_ids': test_tokenized['input_ids'], 'attention_mask': test_tokenized['attention_mask']})\n",
    "y_pred_binary = (y_pred_proba > 0.5).astype(int)\n",
    "\n",
    "# Calculate and print metrics\n",
    "conf_matrix = confusion_matrix(y_test_binarized.argmax(axis=1), y_pred_binary.argmax(axis=1))\n",
    "print(\"Confusion Matrix:\")\n",
    "print(conf_matrix)\n",
    "\n",
    "print(\"Classification Report:\")\n",
    "print(classification_report(y_test_binarized, y_pred_binary, target_names=mlb.classes_))\n",
    "\n",
    "accuracy = accuracy_score(y_test_binarized, y_pred_binary)\n",
    "print(\"Accuracy:\", accuracy)\n"
   ]
  },
  {
   "cell_type": "code",
   "execution_count": 5,
   "metadata": {},
   "outputs": [
    {
     "name": "stdout",
     "output_type": "stream",
     "text": [
      "F1 Score: 0.9032414786162138\n"
     ]
    }
   ],
   "source": [
    "from sklearn.metrics import f1_score\n",
    "\n",
    "# Calculate F1 Score\n",
    "f1 = f1_score(y_test_binarized, y_pred_binary, average='weighted')  # You can change to 'micro', 'macro', or 'weighted'\n",
    "print(\"F1 Score:\", f1)\n"
   ]
  },
  {
   "cell_type": "code",
   "execution_count": null,
   "metadata": {},
   "outputs": [],
   "source": []
  }
 ],
 "metadata": {
  "colab": {
   "provenance": []
  },
  "kernelspec": {
   "display_name": "Python 3 (ipykernel)",
   "language": "python",
   "name": "python3"
  },
  "language_info": {
   "codemirror_mode": {
    "name": "ipython",
    "version": 3
   },
   "file_extension": ".py",
   "mimetype": "text/x-python",
   "name": "python",
   "nbconvert_exporter": "python",
   "pygments_lexer": "ipython3",
   "version": "3.10.12"
  }
 },
 "nbformat": 4,
 "nbformat_minor": 4
}
