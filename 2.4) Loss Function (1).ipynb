{
 "cells": [
  {
   "cell_type": "code",
   "execution_count": 1,
   "id": "84d1f9e2-7321-4b57-b0a2-ddf0241d21b2",
   "metadata": {},
   "outputs": [
    {
     "name": "stdout",
     "output_type": "stream",
     "text": [
      "Defaulting to user installation because normal site-packages is not writeable\n",
      "Requirement already satisfied: datasets in /user/HS400/dd00830/.local/lib/python3.10/site-packages (2.19.0)\n",
      "Requirement already satisfied: xxhash in /user/HS400/dd00830/.local/lib/python3.10/site-packages (from datasets) (3.4.1)\n",
      "Requirement already satisfied: numpy>=1.17 in /usr/local/lib/python3.10/dist-packages (from datasets) (1.26.0)\n",
      "Requirement already satisfied: multiprocess in /user/HS400/dd00830/.local/lib/python3.10/site-packages (from datasets) (0.70.16)\n",
      "Requirement already satisfied: fsspec[http]<=2024.3.1,>=2023.1.0 in /user/HS400/dd00830/.local/lib/python3.10/site-packages (from datasets) (2024.2.0)\n",
      "Requirement already satisfied: aiohttp in /user/HS400/dd00830/.local/lib/python3.10/site-packages (from datasets) (3.9.5)\n",
      "Requirement already satisfied: packaging in /usr/lib/python3/dist-packages (from datasets) (21.3)\n",
      "Requirement already satisfied: pyarrow>=12.0.0 in /user/HS400/dd00830/.local/lib/python3.10/site-packages (from datasets) (16.0.0)\n",
      "Requirement already satisfied: tqdm>=4.62.1 in /user/HS400/dd00830/.local/lib/python3.10/site-packages (from datasets) (4.66.2)\n",
      "Requirement already satisfied: huggingface-hub>=0.21.2 in /user/HS400/dd00830/.local/lib/python3.10/site-packages (from datasets) (0.21.4)\n",
      "Requirement already satisfied: pyyaml>=5.1 in /usr/lib/python3/dist-packages (from datasets) (5.4.1)\n",
      "Requirement already satisfied: pyarrow-hotfix in /user/HS400/dd00830/.local/lib/python3.10/site-packages (from datasets) (0.6)\n",
      "Requirement already satisfied: requests>=2.19.0 in /usr/local/lib/python3.10/dist-packages (from datasets) (2.31.0)\n",
      "Requirement already satisfied: dill<0.3.9,>=0.3.0 in /user/HS400/dd00830/.local/lib/python3.10/site-packages (from datasets) (0.3.8)\n",
      "Requirement already satisfied: pandas in /usr/local/lib/python3.10/dist-packages (from datasets) (2.1.0)\n",
      "Requirement already satisfied: filelock in /user/HS400/dd00830/.local/lib/python3.10/site-packages (from datasets) (3.13.1)\n",
      "Requirement already satisfied: multidict<7.0,>=4.5 in /user/HS400/dd00830/.local/lib/python3.10/site-packages (from aiohttp->datasets) (6.0.5)\n",
      "Requirement already satisfied: aiosignal>=1.1.2 in /user/HS400/dd00830/.local/lib/python3.10/site-packages (from aiohttp->datasets) (1.3.1)\n",
      "Requirement already satisfied: attrs>=17.3.0 in /usr/local/lib/python3.10/dist-packages (from aiohttp->datasets) (23.1.0)\n",
      "Requirement already satisfied: frozenlist>=1.1.1 in /user/HS400/dd00830/.local/lib/python3.10/site-packages (from aiohttp->datasets) (1.4.1)\n",
      "Requirement already satisfied: async-timeout<5.0,>=4.0 in /user/HS400/dd00830/.local/lib/python3.10/site-packages (from aiohttp->datasets) (4.0.3)\n",
      "Requirement already satisfied: yarl<2.0,>=1.0 in /user/HS400/dd00830/.local/lib/python3.10/site-packages (from aiohttp->datasets) (1.9.4)\n",
      "Requirement already satisfied: typing-extensions>=3.7.4.3 in /usr/local/lib/python3.10/dist-packages (from huggingface-hub>=0.21.2->datasets) (4.8.0)\n",
      "Requirement already satisfied: urllib3<3,>=1.21.1 in /usr/lib/python3/dist-packages (from requests>=2.19.0->datasets) (1.26.5)\n",
      "Requirement already satisfied: certifi>=2017.4.17 in /usr/lib/python3/dist-packages (from requests>=2.19.0->datasets) (2020.6.20)\n",
      "Requirement already satisfied: charset-normalizer<4,>=2 in /usr/local/lib/python3.10/dist-packages (from requests>=2.19.0->datasets) (3.2.0)\n",
      "Requirement already satisfied: idna<4,>=2.5 in /usr/lib/python3/dist-packages (from requests>=2.19.0->datasets) (3.3)\n",
      "Requirement already satisfied: python-dateutil>=2.8.2 in /usr/local/lib/python3.10/dist-packages (from pandas->datasets) (2.8.2)\n",
      "Requirement already satisfied: tzdata>=2022.1 in /usr/local/lib/python3.10/dist-packages (from pandas->datasets) (2023.3)\n",
      "Requirement already satisfied: pytz>=2020.1 in /usr/lib/python3/dist-packages (from pandas->datasets) (2022.1)\n",
      "Requirement already satisfied: six>=1.5 in /usr/lib/python3/dist-packages (from python-dateutil>=2.8.2->pandas->datasets) (1.16.0)\n"
     ]
    }
   ],
   "source": [
    "!pip install datasets"
   ]
  },
  {
   "cell_type": "code",
   "execution_count": 4,
   "id": "8586d5ce-7f21-402f-9e90-1136d739ecb3",
   "metadata": {},
   "outputs": [
    {
     "name": "stderr",
     "output_type": "stream",
     "text": [
      "2024-04-26 13:07:30.148286: I tensorflow/core/platform/cpu_feature_guard.cc:210] This TensorFlow binary is optimized to use available CPU instructions in performance-critical operations.\n",
      "To enable the following instructions: AVX2 FMA, in other operations, rebuild TensorFlow with the appropriate compiler flags.\n",
      "2024-04-26 13:07:32.970140: W tensorflow/compiler/tf2tensorrt/utils/py_utils.cc:38] TF-TRT Warning: Could not find TensorRT\n"
     ]
    }
   ],
   "source": [
    "import numpy as np\n",
    "from datasets import load_dataset\n",
    "from sklearn.preprocessing import MultiLabelBinarizer\n",
    "from tensorflow.keras.models import Sequential\n",
    "from tensorflow.keras.layers import Embedding, Flatten, Dense\n",
    "from tensorflow.keras.optimizers import Adam\n",
    "from tensorflow.keras.regularizers import l2\n",
    "from tensorflow.keras import backend as K\n",
    "from tensorflow.keras.preprocessing.sequence import pad_sequences\n",
    "from tokenizers import Tokenizer, models, pre_tokenizers, trainers\n",
    "import gensim.downloader as api\n"
   ]
  },
  {
   "cell_type": "code",
   "execution_count": 5,
   "id": "d85829e6-ecc9-423e-b710-c4edeab75c60",
   "metadata": {},
   "outputs": [],
   "source": [
    "# Load the dataset\n",
    "dataset = load_dataset(\"surrey-nlp/PLOD-CW\")\n",
    "train_data, val_data, test_data = dataset[\"train\"], dataset[\"validation\"], dataset[\"test\"]\n",
    "\n",
    "# Function to extract text and labels from the dataset\n",
    "def prepare_data(data):\n",
    "    texts = [' '.join(tokens) for tokens in data['tokens']]\n",
    "    labels = [tags for tags in data['ner_tags']]\n",
    "    return texts, labels\n",
    "\n",
    "# Preparing the data\n",
    "X_train, y_train = prepare_data(train_data)\n",
    "X_val, y_val = prepare_data(val_data)\n",
    "X_test, y_test = prepare_data(test_data)\n"
   ]
  },
  {
   "cell_type": "code",
   "execution_count": 6,
   "id": "9af21378-2053-44af-92af-f55c3d57fcd3",
   "metadata": {},
   "outputs": [
    {
     "name": "stdout",
     "output_type": "stream",
     "text": [
      "\n",
      "\n",
      "\n"
     ]
    }
   ],
   "source": [
    "# Initialize and train the tokenizer\n",
    "tokenizer = Tokenizer(models.WordPiece(unk_token=\"[UNK]\"))\n",
    "tokenizer.pre_tokenizer = pre_tokenizers.Whitespace()\n",
    "trainer = trainers.WordPieceTrainer(vocab_size=10000, special_tokens=[\"[PAD]\", \"[UNK]\", \"[CLS]\", \"[SEP]\", \"[MASK]\"])\n",
    "concatenated_texts = X_train + X_val + X_test  \n",
    "tokenizer.train_from_iterator(concatenated_texts, trainer=trainer)\n"
   ]
  },
  {
   "cell_type": "code",
   "execution_count": 7,
   "id": "7a46b533-d802-42dd-9658-60ddc3c388e2",
   "metadata": {},
   "outputs": [],
   "source": [
    "# Encode the texts into sequences of integers\n",
    "X_train_enc = [tokenizer.encode(text).ids for text in X_train]\n",
    "X_val_enc = [tokenizer.encode(text).ids for text in X_val]\n",
    "X_test_enc = [tokenizer.encode(text).ids for text in X_test]\n",
    "\n",
    "# Padding sequences\n",
    "max_length = max(max(len(seq) for seq in X_train_enc), max(len(seq) for seq in X_val_enc), max(len(seq) for seq in X_test_enc))\n",
    "X_train_pad = pad_sequences(X_train_enc, maxlen=max_length, padding='post')\n",
    "X_val_pad = pad_sequences(X_val_enc, maxlen=max_length, padding='post')\n",
    "X_test_pad = pad_sequences(X_test_enc, maxlen=max_length, padding='post')\n"
   ]
  },
  {
   "cell_type": "code",
   "execution_count": 8,
   "id": "bbc3692f-8273-4369-a1bb-ef67f2e77c06",
   "metadata": {},
   "outputs": [],
   "source": [
    "mlb = MultiLabelBinarizer()\n",
    "y_train_encoded = mlb.fit_transform([set(tags) for tags in y_train])\n",
    "y_val_encoded = mlb.transform([set(tags) for tags in y_val])\n",
    "y_test_encoded = mlb.transform([set(tags) for tags in y_test])\n"
   ]
  },
  {
   "cell_type": "code",
   "execution_count": 9,
   "id": "1c68a68b-84a3-487b-99a1-5be5fecc5346",
   "metadata": {},
   "outputs": [
    {
     "name": "stderr",
     "output_type": "stream",
     "text": [
      "2024-04-26 13:09:53.863955: I external/local_xla/xla/stream_executor/cuda/cuda_executor.cc:998] successful NUMA node read from SysFS had negative value (-1), but there must be at least one NUMA node, so returning NUMA node zero. See more at https://github.com/torvalds/linux/blob/v6.0/Documentation/ABI/testing/sysfs-bus-pci#L344-L355\n",
      "2024-04-26 13:09:53.892422: W tensorflow/core/common_runtime/gpu/gpu_device.cc:2251] Cannot dlopen some GPU libraries. Please make sure the missing libraries mentioned above are installed properly if you would like to use GPU. Follow the guide at https://www.tensorflow.org/install/gpu for how to download and setup the required libraries for your platform.\n",
      "Skipping registering GPU devices...\n"
     ]
    }
   ],
   "source": [
    "# Load a pre-trained FastText model\n",
    "fasttext_model = api.load(\"fasttext-wiki-news-subwords-300\")\n",
    "\n",
    "# Initialize the embedding matrix\n",
    "embedding_matrix_fasttext = np.zeros((len(tokenizer.get_vocab()) + 1, 300))\n",
    "for word, idx in tokenizer.get_vocab().items():\n",
    "    embedding_matrix_fasttext[idx] = fasttext_model.get_vector(word) if word in fasttext_model else np.zeros(300)\n",
    "\n",
    "# Building the model\n",
    "model_fnn_fasttext = Sequential([\n",
    "    Embedding(input_dim=len(tokenizer.get_vocab()) + 1, output_dim=300, weights=[embedding_matrix_fasttext], trainable=False),\n",
    "    Flatten(),\n",
    "    Dense(128, activation='relu', kernel_regularizer=l2(0.01)),\n",
    "    Dense(y_train_encoded.shape[1], activation='sigmoid')\n",
    "])\n",
    "\n",
    "# Compile the model\n",
    "model_fnn_fasttext.compile(optimizer='adam', loss='binary_crossentropy', metrics=['accuracy'])\n"
   ]
  },
  {
   "cell_type": "code",
   "execution_count": 10,
   "id": "ee747c88-a27c-4da9-ba6f-473cf799f849",
   "metadata": {},
   "outputs": [
    {
     "name": "stdout",
     "output_type": "stream",
     "text": [
      "Epoch 1/10\n",
      "\u001b[1m34/34\u001b[0m \u001b[32m━━━━━━━━━━━━━━━━━━━━\u001b[0m\u001b[37m\u001b[0m \u001b[1m5s\u001b[0m 125ms/step - accuracy: 0.1193 - loss: 1.1903 - val_accuracy: 0.0794 - val_loss: 0.4219\n",
      "Epoch 2/10\n",
      "\u001b[1m34/34\u001b[0m \u001b[32m━━━━━━━━━━━━━━━━━━━━\u001b[0m\u001b[37m\u001b[0m \u001b[1m4s\u001b[0m 123ms/step - accuracy: 0.1082 - loss: 0.3890 - val_accuracy: 0.0794 - val_loss: 0.3893\n",
      "Epoch 3/10\n",
      "\u001b[1m34/34\u001b[0m \u001b[32m━━━━━━━━━━━━━━━━━━━━\u001b[0m\u001b[37m\u001b[0m \u001b[1m4s\u001b[0m 122ms/step - accuracy: 0.0982 - loss: 0.3413 - val_accuracy: 0.0794 - val_loss: 0.3974\n",
      "Epoch 4/10\n",
      "\u001b[1m34/34\u001b[0m \u001b[32m━━━━━━━━━━━━━━━━━━━━\u001b[0m\u001b[37m\u001b[0m \u001b[1m4s\u001b[0m 123ms/step - accuracy: 0.1031 - loss: 0.3462 - val_accuracy: 0.0794 - val_loss: 0.3774\n",
      "Epoch 5/10\n",
      "\u001b[1m34/34\u001b[0m \u001b[32m━━━━━━━━━━━━━━━━━━━━\u001b[0m\u001b[37m\u001b[0m \u001b[1m4s\u001b[0m 125ms/step - accuracy: 0.1003 - loss: 0.3198 - val_accuracy: 0.0794 - val_loss: 0.4065\n",
      "Epoch 6/10\n",
      "\u001b[1m34/34\u001b[0m \u001b[32m━━━━━━━━━━━━━━━━━━━━\u001b[0m\u001b[37m\u001b[0m \u001b[1m4s\u001b[0m 125ms/step - accuracy: 0.1106 - loss: 0.3447 - val_accuracy: 0.0794 - val_loss: 0.4008\n",
      "Epoch 7/10\n",
      "\u001b[1m34/34\u001b[0m \u001b[32m━━━━━━━━━━━━━━━━━━━━\u001b[0m\u001b[37m\u001b[0m \u001b[1m4s\u001b[0m 127ms/step - accuracy: 0.0952 - loss: 0.3448 - val_accuracy: 0.0794 - val_loss: 0.3939\n",
      "Epoch 8/10\n",
      "\u001b[1m34/34\u001b[0m \u001b[32m━━━━━━━━━━━━━━━━━━━━\u001b[0m\u001b[37m\u001b[0m \u001b[1m4s\u001b[0m 128ms/step - accuracy: 0.0904 - loss: 0.3348 - val_accuracy: 0.0794 - val_loss: 0.3708\n",
      "Epoch 9/10\n",
      "\u001b[1m34/34\u001b[0m \u001b[32m━━━━━━━━━━━━━━━━━━━━\u001b[0m\u001b[37m\u001b[0m \u001b[1m4s\u001b[0m 130ms/step - accuracy: 0.1051 - loss: 0.3359 - val_accuracy: 0.0794 - val_loss: 0.3948\n",
      "Epoch 10/10\n",
      "\u001b[1m34/34\u001b[0m \u001b[32m━━━━━━━━━━━━━━━━━━━━\u001b[0m\u001b[37m\u001b[0m \u001b[1m4s\u001b[0m 128ms/step - accuracy: 0.0971 - loss: 0.3132 - val_accuracy: 0.0794 - val_loss: 0.4019\n"
     ]
    },
    {
     "data": {
      "text/plain": [
       "<keras.src.callbacks.history.History at 0x7f6edcb8b8e0>"
      ]
     },
     "execution_count": 10,
     "metadata": {},
     "output_type": "execute_result"
    }
   ],
   "source": [
    "model_fnn_fasttext.fit(X_train_pad, y_train_encoded, epochs=10, validation_data=(X_val_pad, y_val_encoded), batch_size=32)\n"
   ]
  },
  {
   "cell_type": "code",
   "execution_count": 11,
   "id": "41ef2b65-7a08-4f1c-9c84-ca037b8f72b8",
   "metadata": {},
   "outputs": [
    {
     "name": "stdout",
     "output_type": "stream",
     "text": [
      "5/5 - 0s - 21ms/step - accuracy: 0.1438 - loss: 0.4270\n",
      "Test accuracy: 0.1437908560037613, Test loss: 0.42697522044181824\n"
     ]
    }
   ],
   "source": [
    "test_loss, test_acc = model_fnn_fasttext.evaluate(X_test_pad, y_test_encoded, verbose=2)\n",
    "print(f\"Test accuracy: {test_acc}, Test loss: {test_loss}\")\n"
   ]
  },
  {
   "cell_type": "code",
   "execution_count": 12,
   "id": "09553e14-da97-4ef1-9f7f-965709568c9a",
   "metadata": {},
   "outputs": [
    {
     "name": "stdout",
     "output_type": "stream",
     "text": [
      "\u001b[1m5/5\u001b[0m \u001b[32m━━━━━━━━━━━━━━━━━━━━\u001b[0m\u001b[37m\u001b[0m \u001b[1m0s\u001b[0m 14ms/step\n"
     ]
    },
    {
     "data": {
      "image/png": "[encoded data removed]",
      "text/plain": [
       "<Figure size 720x504 with 2 Axes>"
      ]
     },
     "metadata": {
      "needs_background": "light"
     },
     "output_type": "display_data"
    },
    {
     "data": {
      "image/png": "[encoded data removed]",
      "text/plain": [
       "<Figure size 720x504 with 2 Axes>"
      ]
     },
     "metadata": {
      "needs_background": "light"
     },
     "output_type": "display_data"
    },
    {
     "name": "stderr",
     "output_type": "stream",
     "text": [
      "/user/HS400/dd00830/.local/lib/python3.10/site-packages/sklearn/metrics/_classification.py:386: UserWarning: A single label was found in 'y_true' and 'y_pred'. For the confusion matrix to have the correct shape, use the 'labels' parameter to pass all known labels.\n",
      "  warnings.warn(\n"
     ]
    },
    {
     "data": {
      "image/png": "[encoded data removed]",
      "text/plain": [
       "<Figure size 720x504 with 2 Axes>"
      ]
     },
     "metadata": {
      "needs_background": "light"
     },
     "output_type": "display_data"
    },
    {
     "data": {
      "image/png": "[encoded data removed]",
      "text/plain": [
       "<Figure size 720x504 with 2 Axes>"
      ]
     },
     "metadata": {
      "needs_background": "light"
     },
     "output_type": "display_data"
    },
    {
     "name": "stdout",
     "output_type": "stream",
     "text": [
      "              precision    recall  f1-score   support\n",
      "\n",
      "        B-AC       0.90      0.98      0.94       131\n",
      "        B-LF       0.82      0.98      0.89       113\n",
      "         B-O       1.00      1.00      1.00       153\n",
      "        I-LF       0.74      0.94      0.83       100\n",
      "\n",
      "   micro avg       0.87      0.98      0.92       497\n",
      "   macro avg       0.86      0.98      0.91       497\n",
      "weighted avg       0.88      0.98      0.92       497\n",
      " samples avg       0.87      0.98      0.90       497\n",
      "\n",
      "[[20 33]\n",
      " [ 6 94]]\n"
     ]
    }
   ],
   "source": [
    "import numpy as np\n",
    "\n",
    "# Predict probabilities for test set\n",
    "y_probs = model_fnn_fasttext.predict(X_test_pad) \n",
    "\n",
    "# Convert probabilities to binary predictions\n",
    "y_pred = (y_probs > 0.5).astype(int)\n",
    "from sklearn.metrics import confusion_matrix, classification_report, accuracy_score, f1_score\n",
    "import matplotlib.pyplot as plt\n",
    "import seaborn as sns\n",
    "\n",
    "# Function to plot confusion matrix\n",
    "def plot_confusion_matrix(cm, class_names):\n",
    "    plt.figure(figsize=(10, 7))\n",
    "    sns.heatmap(cm, annot=True, fmt='g', cmap='Blues', xticklabels=class_names, yticklabels=class_names)\n",
    "    plt.xlabel('Predicted labels')\n",
    "    plt.ylabel('True labels')\n",
    "    plt.title('Confusion Matrix')\n",
    "    plt.show()\n",
    "\n",
    "for i, class_name in enumerate(mlb.classes_):\n",
    "    cm = confusion_matrix(y_test_encoded[:, i], y_pred[:, i])\n",
    "    plot_confusion_matrix(cm, [f'Not {class_name}', class_name])\n",
    "# Generate a classification report\n",
    "report = classification_report(y_test_encoded, y_pred, target_names=mlb.classes_)\n",
    "print(report)\n",
    "\n",
    "print(cm)"
   ]
  },
  {
   "cell_type": "code",
   "execution_count": null,
   "id": "ce9908b8-3295-4b6c-8318-7284fb8e4ed6",
   "metadata": {},
   "outputs": [],
   "source": []
  }
 ],
 "metadata": {
  "kernelspec": {
   "display_name": "Python 3 (ipykernel)",
   "language": "python",
   "name": "python3"
  },
  "language_info": {
   "codemirror_mode": {
    "name": "ipython",
    "version": 3
   },
   "file_extension": ".py",
   "mimetype": "text/x-python",
   "name": "python",
   "nbconvert_exporter": "python",
   "pygments_lexer": "ipython3",
   "version": "3.10.12"
  }
 },
 "nbformat": 4,
 "nbformat_minor": 5
}
