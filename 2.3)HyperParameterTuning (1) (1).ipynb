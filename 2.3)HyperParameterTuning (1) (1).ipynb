{
 "cells": [
  {
   "cell_type": "code",
   "execution_count": 13,
   "id": "ebc2e932-8801-4393-bb66-a8baee742b3a",
   "metadata": {},
   "outputs": [
    {
     "name": "stdout",
     "output_type": "stream",
     "text": [
      "Defaulting to user installation because normal site-packages is not writeable\n",
      "Requirement already satisfied: datasets in /user/HS400/dd00830/.local/lib/python3.10/site-packages (2.19.0)\n",
      "Requirement already satisfied: pyarrow-hotfix in /user/HS400/dd00830/.local/lib/python3.10/site-packages (from datasets) (0.6)\n",
      "Requirement already satisfied: tqdm>=4.62.1 in /user/HS400/dd00830/.local/lib/python3.10/site-packages (from datasets) (4.66.2)\n",
      "Requirement already satisfied: fsspec[http]<=2024.3.1,>=2023.1.0 in /user/HS400/dd00830/.local/lib/python3.10/site-packages (from datasets) (2024.2.0)\n",
      "Requirement already satisfied: numpy>=1.17 in /usr/local/lib/python3.10/dist-packages (from datasets) (1.26.0)\n",
      "Requirement already satisfied: packaging in /usr/lib/python3/dist-packages (from datasets) (21.3)\n",
      "Requirement already satisfied: pandas in /usr/local/lib/python3.10/dist-packages (from datasets) (2.1.1)\n",
      "Requirement already satisfied: requests>=2.19.0 in /usr/local/lib/python3.10/dist-packages (from datasets) (2.31.0)\n",
      "Requirement already satisfied: xxhash in /user/HS400/dd00830/.local/lib/python3.10/site-packages (from datasets) (3.4.1)\n",
      "Requirement already satisfied: pyyaml>=5.1 in /usr/lib/python3/dist-packages (from datasets) (5.4.1)\n",
      "Requirement already satisfied: huggingface-hub>=0.21.2 in /user/HS400/dd00830/.local/lib/python3.10/site-packages (from datasets) (0.21.4)\n",
      "Requirement already satisfied: multiprocess in /user/HS400/dd00830/.local/lib/python3.10/site-packages (from datasets) (0.70.16)\n",
      "Requirement already satisfied: pyarrow>=12.0.0 in /user/HS400/dd00830/.local/lib/python3.10/site-packages (from datasets) (16.0.0)\n",
      "Requirement already satisfied: dill<0.3.9,>=0.3.0 in /user/HS400/dd00830/.local/lib/python3.10/site-packages (from datasets) (0.3.8)\n",
      "Requirement already satisfied: aiohttp in /user/HS400/dd00830/.local/lib/python3.10/site-packages (from datasets) (3.9.5)\n",
      "Requirement already satisfied: filelock in /user/HS400/dd00830/.local/lib/python3.10/site-packages (from datasets) (3.13.1)\n",
      "Requirement already satisfied: frozenlist>=1.1.1 in /user/HS400/dd00830/.local/lib/python3.10/site-packages (from aiohttp->datasets) (1.4.1)\n",
      "Requirement already satisfied: yarl<2.0,>=1.0 in /user/HS400/dd00830/.local/lib/python3.10/site-packages (from aiohttp->datasets) (1.9.4)\n",
      "Requirement already satisfied: attrs>=17.3.0 in /usr/local/lib/python3.10/dist-packages (from aiohttp->datasets) (23.1.0)\n",
      "Requirement already satisfied: aiosignal>=1.1.2 in /user/HS400/dd00830/.local/lib/python3.10/site-packages (from aiohttp->datasets) (1.3.1)\n",
      "Requirement already satisfied: async-timeout<5.0,>=4.0 in /user/HS400/dd00830/.local/lib/python3.10/site-packages (from aiohttp->datasets) (4.0.3)\n",
      "Requirement already satisfied: multidict<7.0,>=4.5 in /user/HS400/dd00830/.local/lib/python3.10/site-packages (from aiohttp->datasets) (6.0.5)\n",
      "Requirement already satisfied: typing-extensions>=3.7.4.3 in /usr/local/lib/python3.10/dist-packages (from huggingface-hub>=0.21.2->datasets) (4.8.0)\n",
      "Requirement already satisfied: charset-normalizer<4,>=2 in /usr/local/lib/python3.10/dist-packages (from requests>=2.19.0->datasets) (3.2.0)\n",
      "Requirement already satisfied: idna<4,>=2.5 in /usr/lib/python3/dist-packages (from requests>=2.19.0->datasets) (3.3)\n",
      "Requirement already satisfied: urllib3<3,>=1.21.1 in /usr/lib/python3/dist-packages (from requests>=2.19.0->datasets) (1.26.5)\n",
      "Requirement already satisfied: certifi>=2017.4.17 in /usr/lib/python3/dist-packages (from requests>=2.19.0->datasets) (2020.6.20)\n",
      "Requirement already satisfied: python-dateutil>=2.8.2 in /usr/local/lib/python3.10/dist-packages (from pandas->datasets) (2.8.2)\n",
      "Requirement already satisfied: tzdata>=2022.1 in /usr/local/lib/python3.10/dist-packages (from pandas->datasets) (2023.3)\n",
      "Requirement already satisfied: pytz>=2020.1 in /usr/lib/python3/dist-packages (from pandas->datasets) (2022.1)\n",
      "Requirement already satisfied: six>=1.5 in /usr/lib/python3/dist-packages (from python-dateutil>=2.8.2->pandas->datasets) (1.16.0)\n"
     ]
    }
   ],
   "source": [
    "!pip install datasets"
   ]
  },
  {
   "cell_type": "code",
   "execution_count": 64,
   "id": "fd683bc1-3c92-4664-8cc8-ac3e63e5134d",
   "metadata": {},
   "outputs": [
    {
     "name": "stderr",
     "output_type": "stream",
     "text": [
      "/user/HS400/dd00830/.local/lib/python3.10/site-packages/keras/src/layers/core/embedding.py:90: UserWarning: Argument `input_length` is deprecated. Just remove it.\n",
      "  warnings.warn(\n"
     ]
    },
    {
     "data": {
      "text/html": [
       "<pre style=\"white-space:pre;overflow-x:auto;line-height:normal;font-family:Menlo,'DejaVu Sans Mono',consolas,'Courier New',monospace\"><span style=\"font-weight: bold\">Model: \"sequential_10\"</span>\n",
       "</pre>\n"
      ],
      "text/plain": [
       "\u001b[1mModel: \"sequential_10\"\u001b[0m\n"
      ]
     },
     "metadata": {},
     "output_type": "display_data"
    },
    {
     "data": {
      "text/html": [
       "<pre style=\"white-space:pre;overflow-x:auto;line-height:normal;font-family:Menlo,'DejaVu Sans Mono',consolas,'Courier New',monospace\">┏━━━━━━━━━━━━━━━━━━━━━━━━━━━━━━━━━┳━━━━━━━━━━━━━━━━━━━━━━━━┳━━━━━━━━━━━━━━━┓\n",
       "┃<span style=\"font-weight: bold\"> Layer (type)                    </span>┃<span style=\"font-weight: bold\"> Output Shape           </span>┃<span style=\"font-weight: bold\">       Param # </span>┃\n",
       "┡━━━━━━━━━━━━━━━━━━━━━━━━━━━━━━━━━╇━━━━━━━━━━━━━━━━━━━━━━━━╇━━━━━━━━━━━━━━━┩\n",
       "│ embedding_7 (<span style=\"color: #0087ff; text-decoration-color: #0087ff\">Embedding</span>)         │ ?                      │   <span style=\"color: #00af00; text-decoration-color: #00af00\">0</span> (unbuilt) │\n",
       "├─────────────────────────────────┼────────────────────────┼───────────────┤\n",
       "│ global_average_pooling1d_7      │ ?                      │   <span style=\"color: #00af00; text-decoration-color: #00af00\">0</span> (unbuilt) │\n",
       "│ (<span style=\"color: #0087ff; text-decoration-color: #0087ff\">GlobalAveragePooling1D</span>)        │                        │               │\n",
       "├─────────────────────────────────┼────────────────────────┼───────────────┤\n",
       "│ dense_21 (<span style=\"color: #0087ff; text-decoration-color: #0087ff\">Dense</span>)                │ ?                      │   <span style=\"color: #00af00; text-decoration-color: #00af00\">0</span> (unbuilt) │\n",
       "├─────────────────────────────────┼────────────────────────┼───────────────┤\n",
       "│ dense_22 (<span style=\"color: #0087ff; text-decoration-color: #0087ff\">Dense</span>)                │ ?                      │   <span style=\"color: #00af00; text-decoration-color: #00af00\">0</span> (unbuilt) │\n",
       "├─────────────────────────────────┼────────────────────────┼───────────────┤\n",
       "│ dense_23 (<span style=\"color: #0087ff; text-decoration-color: #0087ff\">Dense</span>)                │ ?                      │   <span style=\"color: #00af00; text-decoration-color: #00af00\">0</span> (unbuilt) │\n",
       "└─────────────────────────────────┴────────────────────────┴───────────────┘\n",
       "</pre>\n"
      ],
      "text/plain": [
       "┏━━━━━━━━━━━━━━━━━━━━━━━━━━━━━━━━━┳━━━━━━━━━━━━━━━━━━━━━━━━┳━━━━━━━━━━━━━━━┓\n",
       "┃\u001b[1m \u001b[0m\u001b[1mLayer (type)                   \u001b[0m\u001b[1m \u001b[0m┃\u001b[1m \u001b[0m\u001b[1mOutput Shape          \u001b[0m\u001b[1m \u001b[0m┃\u001b[1m \u001b[0m\u001b[1m      Param #\u001b[0m\u001b[1m \u001b[0m┃\n",
       "┡━━━━━━━━━━━━━━━━━━━━━━━━━━━━━━━━━╇━━━━━━━━━━━━━━━━━━━━━━━━╇━━━━━━━━━━━━━━━┩\n",
       "│ embedding_7 (\u001b[38;5;33mEmbedding\u001b[0m)         │ ?                      │   \u001b[38;5;34m0\u001b[0m (unbuilt) │\n",
       "├─────────────────────────────────┼────────────────────────┼───────────────┤\n",
       "│ global_average_pooling1d_7      │ ?                      │   \u001b[38;5;34m0\u001b[0m (unbuilt) │\n",
       "│ (\u001b[38;5;33mGlobalAveragePooling1D\u001b[0m)        │                        │               │\n",
       "├─────────────────────────────────┼────────────────────────┼───────────────┤\n",
       "│ dense_21 (\u001b[38;5;33mDense\u001b[0m)                │ ?                      │   \u001b[38;5;34m0\u001b[0m (unbuilt) │\n",
       "├─────────────────────────────────┼────────────────────────┼───────────────┤\n",
       "│ dense_22 (\u001b[38;5;33mDense\u001b[0m)                │ ?                      │   \u001b[38;5;34m0\u001b[0m (unbuilt) │\n",
       "├─────────────────────────────────┼────────────────────────┼───────────────┤\n",
       "│ dense_23 (\u001b[38;5;33mDense\u001b[0m)                │ ?                      │   \u001b[38;5;34m0\u001b[0m (unbuilt) │\n",
       "└─────────────────────────────────┴────────────────────────┴───────────────┘\n"
      ]
     },
     "metadata": {},
     "output_type": "display_data"
    },
    {
     "data": {
      "text/html": [
       "<pre style=\"white-space:pre;overflow-x:auto;line-height:normal;font-family:Menlo,'DejaVu Sans Mono',consolas,'Courier New',monospace\"><span style=\"font-weight: bold\"> Total params: </span><span style=\"color: #00af00; text-decoration-color: #00af00\">0</span> (0.00 B)\n",
       "</pre>\n"
      ],
      "text/plain": [
       "\u001b[1m Total params: \u001b[0m\u001b[38;5;34m0\u001b[0m (0.00 B)\n"
      ]
     },
     "metadata": {},
     "output_type": "display_data"
    },
    {
     "data": {
      "text/html": [
       "<pre style=\"white-space:pre;overflow-x:auto;line-height:normal;font-family:Menlo,'DejaVu Sans Mono',consolas,'Courier New',monospace\"><span style=\"font-weight: bold\"> Trainable params: </span><span style=\"color: #00af00; text-decoration-color: #00af00\">0</span> (0.00 B)\n",
       "</pre>\n"
      ],
      "text/plain": [
       "\u001b[1m Trainable params: \u001b[0m\u001b[38;5;34m0\u001b[0m (0.00 B)\n"
      ]
     },
     "metadata": {},
     "output_type": "display_data"
    },
    {
     "data": {
      "text/html": [
       "<pre style=\"white-space:pre;overflow-x:auto;line-height:normal;font-family:Menlo,'DejaVu Sans Mono',consolas,'Courier New',monospace\"><span style=\"font-weight: bold\"> Non-trainable params: </span><span style=\"color: #00af00; text-decoration-color: #00af00\">0</span> (0.00 B)\n",
       "</pre>\n"
      ],
      "text/plain": [
       "\u001b[1m Non-trainable params: \u001b[0m\u001b[38;5;34m0\u001b[0m (0.00 B)\n"
      ]
     },
     "metadata": {},
     "output_type": "display_data"
    },
    {
     "name": "stdout",
     "output_type": "stream",
     "text": [
      "Total combinations: 54\n",
      "{'activation': 'relu', 'embedding_dim': 50, 'hidden_layers': 1, 'hidden_units': 32}\n",
      "{'activation': 'relu', 'embedding_dim': 50, 'hidden_layers': 1, 'hidden_units': 64}\n",
      "{'activation': 'relu', 'embedding_dim': 50, 'hidden_layers': 1, 'hidden_units': 128}\n",
      "{'activation': 'relu', 'embedding_dim': 50, 'hidden_layers': 2, 'hidden_units': 32}\n",
      "{'activation': 'relu', 'embedding_dim': 50, 'hidden_layers': 2, 'hidden_units': 64}\n",
      "{'activation': 'relu', 'embedding_dim': 50, 'hidden_layers': 2, 'hidden_units': 128}\n",
      "{'activation': 'relu', 'embedding_dim': 50, 'hidden_layers': 3, 'hidden_units': 32}\n",
      "{'activation': 'relu', 'embedding_dim': 50, 'hidden_layers': 3, 'hidden_units': 64}\n",
      "{'activation': 'relu', 'embedding_dim': 50, 'hidden_layers': 3, 'hidden_units': 128}\n",
      "{'activation': 'relu', 'embedding_dim': 100, 'hidden_layers': 1, 'hidden_units': 32}\n",
      "{'activation': 'relu', 'embedding_dim': 100, 'hidden_layers': 1, 'hidden_units': 64}\n",
      "{'activation': 'relu', 'embedding_dim': 100, 'hidden_layers': 1, 'hidden_units': 128}\n",
      "{'activation': 'relu', 'embedding_dim': 100, 'hidden_layers': 2, 'hidden_units': 32}\n",
      "{'activation': 'relu', 'embedding_dim': 100, 'hidden_layers': 2, 'hidden_units': 64}\n",
      "{'activation': 'relu', 'embedding_dim': 100, 'hidden_layers': 2, 'hidden_units': 128}\n",
      "{'activation': 'relu', 'embedding_dim': 100, 'hidden_layers': 3, 'hidden_units': 32}\n",
      "{'activation': 'relu', 'embedding_dim': 100, 'hidden_layers': 3, 'hidden_units': 64}\n",
      "{'activation': 'relu', 'embedding_dim': 100, 'hidden_layers': 3, 'hidden_units': 128}\n",
      "{'activation': 'relu', 'embedding_dim': 200, 'hidden_layers': 1, 'hidden_units': 32}\n",
      "{'activation': 'relu', 'embedding_dim': 200, 'hidden_layers': 1, 'hidden_units': 64}\n",
      "{'activation': 'relu', 'embedding_dim': 200, 'hidden_layers': 1, 'hidden_units': 128}\n",
      "{'activation': 'relu', 'embedding_dim': 200, 'hidden_layers': 2, 'hidden_units': 32}\n",
      "{'activation': 'relu', 'embedding_dim': 200, 'hidden_layers': 2, 'hidden_units': 64}\n",
      "{'activation': 'relu', 'embedding_dim': 200, 'hidden_layers': 2, 'hidden_units': 128}\n",
      "{'activation': 'relu', 'embedding_dim': 200, 'hidden_layers': 3, 'hidden_units': 32}\n",
      "{'activation': 'relu', 'embedding_dim': 200, 'hidden_layers': 3, 'hidden_units': 64}\n",
      "{'activation': 'relu', 'embedding_dim': 200, 'hidden_layers': 3, 'hidden_units': 128}\n",
      "{'activation': 'tanh', 'embedding_dim': 50, 'hidden_layers': 1, 'hidden_units': 32}\n",
      "{'activation': 'tanh', 'embedding_dim': 50, 'hidden_layers': 1, 'hidden_units': 64}\n",
      "{'activation': 'tanh', 'embedding_dim': 50, 'hidden_layers': 1, 'hidden_units': 128}\n",
      "{'activation': 'tanh', 'embedding_dim': 50, 'hidden_layers': 2, 'hidden_units': 32}\n",
      "{'activation': 'tanh', 'embedding_dim': 50, 'hidden_layers': 2, 'hidden_units': 64}\n",
      "{'activation': 'tanh', 'embedding_dim': 50, 'hidden_layers': 2, 'hidden_units': 128}\n",
      "{'activation': 'tanh', 'embedding_dim': 50, 'hidden_layers': 3, 'hidden_units': 32}\n",
      "{'activation': 'tanh', 'embedding_dim': 50, 'hidden_layers': 3, 'hidden_units': 64}\n",
      "{'activation': 'tanh', 'embedding_dim': 50, 'hidden_layers': 3, 'hidden_units': 128}\n",
      "{'activation': 'tanh', 'embedding_dim': 100, 'hidden_layers': 1, 'hidden_units': 32}\n",
      "{'activation': 'tanh', 'embedding_dim': 100, 'hidden_layers': 1, 'hidden_units': 64}\n",
      "{'activation': 'tanh', 'embedding_dim': 100, 'hidden_layers': 1, 'hidden_units': 128}\n",
      "{'activation': 'tanh', 'embedding_dim': 100, 'hidden_layers': 2, 'hidden_units': 32}\n",
      "{'activation': 'tanh', 'embedding_dim': 100, 'hidden_layers': 2, 'hidden_units': 64}\n",
      "{'activation': 'tanh', 'embedding_dim': 100, 'hidden_layers': 2, 'hidden_units': 128}\n",
      "{'activation': 'tanh', 'embedding_dim': 100, 'hidden_layers': 3, 'hidden_units': 32}\n",
      "{'activation': 'tanh', 'embedding_dim': 100, 'hidden_layers': 3, 'hidden_units': 64}\n",
      "{'activation': 'tanh', 'embedding_dim': 100, 'hidden_layers': 3, 'hidden_units': 128}\n",
      "{'activation': 'tanh', 'embedding_dim': 200, 'hidden_layers': 1, 'hidden_units': 32}\n",
      "{'activation': 'tanh', 'embedding_dim': 200, 'hidden_layers': 1, 'hidden_units': 64}\n",
      "{'activation': 'tanh', 'embedding_dim': 200, 'hidden_layers': 1, 'hidden_units': 128}\n",
      "{'activation': 'tanh', 'embedding_dim': 200, 'hidden_layers': 2, 'hidden_units': 32}\n",
      "{'activation': 'tanh', 'embedding_dim': 200, 'hidden_layers': 2, 'hidden_units': 64}\n",
      "{'activation': 'tanh', 'embedding_dim': 200, 'hidden_layers': 2, 'hidden_units': 128}\n",
      "{'activation': 'tanh', 'embedding_dim': 200, 'hidden_layers': 3, 'hidden_units': 32}\n",
      "{'activation': 'tanh', 'embedding_dim': 200, 'hidden_layers': 3, 'hidden_units': 64}\n",
      "{'activation': 'tanh', 'embedding_dim': 200, 'hidden_layers': 3, 'hidden_units': 128}\n"
     ]
    }
   ],
   "source": [
    "from datasets import load_dataset\n",
    "from sklearn.feature_extraction.text import TfidfVectorizer\n",
    "from sklearn.neural_network import MLPClassifier\n",
    "from sklearn.model_selection import GridSearchCV\n",
    "from sklearn.pipeline import Pipeline\n",
    "from sklearn.preprocessing import MultiLabelBinarizer\n",
    "from sklearn.metrics import confusion_matrix, classification_report, accuracy_score, f1_score\n",
    "\n",
    "# Load dataset\n",
    "dataset = load_dataset(\"surrey-nlp/PLOD-CW\")\n",
    "\n",
    "# Extract features and labels\n",
    "train_data = dataset[\"train\"]\n",
    "test_data = dataset[\"test\"]\n",
    "\n",
    "X_train_data = train_data[\"tokens\"]\n",
    "y_train_data = train_data[\"ner_tags\"]\n",
    "\n",
    "X_test_data = test_data[\"tokens\"]\n",
    "y_test_data = test_data[\"ner_tags\"]\n",
    "\n",
    "# Convert tokens into strings\n",
    "X_train_data = [' '.join(tokens) for tokens in X_train_data]\n",
    "X_test_data = [' '.join(tokens) for tokens in X_test_data]\n",
    "\n",
    "# Convert multi-labels to binary format\n",
    "labels = ['B-O','B-AC','B-LF','I-LF']\n",
    "mlb = MultiLabelBinarizer()\n",
    "y_train_binarized = mlb.fit_transform(y_train_data)\n",
    "y_test_binarized = mlb.transform(y_test_data)\n",
    "\n",
    "import numpy as np\n",
    "import tensorflow as tf\n",
    "from tensorflow.keras.models import Sequential\n",
    "from tensorflow.keras.layers import Dense, Embedding, GlobalAveragePooling1D\n",
    "\n",
    "def create_fasttext_fnn_model(vocab_size, embedding_dim, output_dim, num_classes, hidden_layers, hidden_units, activation='relu'):\n",
    "    model = Sequential()\n",
    "\n",
    "    # Embedding layer\n",
    "    model.add(Embedding(input_dim=vocab_size, output_dim=embedding_dim, input_length=max_length))\n",
    "\n",
    "    # Global Average Pooling layer\n",
    "    model.add(GlobalAveragePooling1D())\n",
    "\n",
    "    # Hidden layers\n",
    "    for _ in range(hidden_layers):\n",
    "        model.add(Dense(hidden_units, activation=activation))\n",
    "\n",
    "    # Output layer\n",
    "    model.add(Dense(num_classes, activation='softmax'))\n",
    "\n",
    "    # Compile model\n",
    "    model.compile(loss='categorical_crossentropy', optimizer='adam', metrics=['accuracy'])\n",
    "\n",
    "    return model\n",
    "\n",
    "# Example usage:\n",
    "vocab_size = 10000  # Example vocabulary size\n",
    "embedding_dim = 100  # Example embedding dimension\n",
    "output_dim = 1  # Example output dimension\n",
    "num_classes = 4  # Adjusted number of classes\n",
    "hidden_layers = 2  # Example number of hidden layers\n",
    "hidden_units = 64  # Example number of units in each hidden layer\n",
    "\n",
    "# Calculate the maximum length of input sequences\n",
    "max_length = max(len(seq) for seq in X_train_data)\n",
    "\n",
    "model = create_fasttext_fnn_model(vocab_size, embedding_dim, output_dim, num_classes, hidden_layers, hidden_units)\n",
    "model.summary()\n",
    "\n",
    "\n",
    "from sklearn.model_selection import ParameterGrid\n",
    "\n",
    "def create_hyperparameter_grid():\n",
    "    param_grid = {\n",
    "        'embedding_dim': [50, 100, 200],\n",
    "        'hidden_layers': [1, 2, 3],\n",
    "        'hidden_units': [32, 64, 128],\n",
    "        'activation': ['relu', 'tanh']\n",
    "    }\n",
    "\n",
    "    return list(ParameterGrid(param_grid))\n",
    "\n",
    "# Example usage:\n",
    "hyperparameter_grid = create_hyperparameter_grid()\n",
    "print(\"Total combinations:\", len(hyperparameter_grid))\n",
    "for params in hyperparameter_grid:\n",
    "    print(params)\n",
    "  \n"
   ]
  },
  {
   "cell_type": "code",
   "execution_count": 45,
   "id": "60a4d30f-8980-4d91-a577-c310826175dd",
   "metadata": {},
   "outputs": [
    {
     "name": "stdout",
     "output_type": "stream",
     "text": [
      "Binarized train labels shape: (1072, 4)\n",
      "Binarized test labels shape: (153, 4)\n",
      "Classes found by MultiLabelBinarizer: ['B-AC' 'B-LF' 'B-O' 'I-LF']\n"
     ]
    }
   ],
   "source": [
    "print(\"Binarized train labels shape:\", y_train_binarized.shape)\n",
    "print(\"Binarized test labels shape:\", y_test_binarized.shape)\n",
    "print(\"Classes found by MultiLabelBinarizer:\", mlb.classes_)\n"
   ]
  },
  {
   "cell_type": "code",
   "execution_count": 47,
   "id": "d5d5f814-3517-42a5-9f67-8fa7a3cf16a1",
   "metadata": {},
   "outputs": [
    {
     "name": "stdout",
     "output_type": "stream",
     "text": [
      "Index-to-class mapping: ['B-AC' 'B-LF' 'B-O' 'I-LF']\n"
     ]
    }
   ],
   "source": [
    "# Check what classes correspond to what indices\n",
    "print(\"Index-to-class mapping:\", mlb.classes_)\n"
   ]
  },
  {
   "cell_type": "code",
   "execution_count": 59,
   "id": "3dab266f-8972-4930-bf0b-954a9910e389",
   "metadata": {},
   "outputs": [],
   "source": [
    "from sklearn.preprocessing import label_binarize\n",
    "\n",
    "# Assuming classes [0, 1, 2, 3] correspond to your model's output classes\n",
    "y_pred_binarized = label_binarize(y_pred_classes, classes=[0, 1, 2, 3])\n"
   ]
  },
  {
   "cell_type": "code",
   "execution_count": 58,
   "id": "1b0bf6fb-b810-46b9-ab41-03232cff1d0b",
   "metadata": {},
   "outputs": [
    {
     "name": "stdout",
     "output_type": "stream",
     "text": [
      "Classification Report:\n",
      "              precision    recall  f1-score   support\n",
      "\n",
      "        B-AC       0.86      1.00      0.92       131\n",
      "        B-LF       0.00      0.00      0.00       113\n",
      "         B-O       0.00      0.00      0.00       153\n",
      "        I-LF       0.00      0.00      0.00       100\n",
      "\n",
      "   micro avg       0.86      0.26      0.40       497\n",
      "   macro avg       0.21      0.25      0.23       497\n",
      "weighted avg       0.23      0.26      0.24       497\n",
      " samples avg       0.86      0.25      0.38       497\n",
      "\n"
     ]
    },
    {
     "name": "stderr",
     "output_type": "stream",
     "text": [
      "/user/HS400/dd00830/.local/lib/python3.10/site-packages/sklearn/metrics/_classification.py:1509: UndefinedMetricWarning: Precision is ill-defined and being set to 0.0 in labels with no predicted samples. Use `zero_division` parameter to control this behavior.\n",
      "  _warn_prf(average, modifier, f\"{metric.capitalize()} is\", len(result))\n"
     ]
    }
   ],
   "source": [
    "print(\"Classification Report:\")\n",
    "print(classification_report(y_test_binarized, y_pred_binarized, target_names=mlb.classes_))\n"
   ]
  },
  {
   "cell_type": "code",
   "execution_count": 63,
   "id": "30166c3f-9b20-47aa-8931-e8128b7d25f0",
   "metadata": {},
   "outputs": [
    {
     "name": "stdout",
     "output_type": "stream",
     "text": [
      "Confusion Matrix:-\n",
      "[[131   0]\n",
      " [ 22   0]]\n"
     ]
    }
   ],
   "source": [
    "print(\"Confusion Matrix:-\")\n",
    "print(confusion_matrix(y_true_classes, y_pred_classes))\n"
   ]
  },
  {
   "cell_type": "code",
   "execution_count": 60,
   "id": "1b29f23c-b8b9-483e-b5ac-b5472080f421",
   "metadata": {},
   "outputs": [
    {
     "name": "stdout",
     "output_type": "stream",
     "text": [
      "Accuracy Score:-\n",
      "0.8562091503267973\n"
     ]
    }
   ],
   "source": [
    "print(\"Accuracy Score:-\")\n",
    "print(accuracy_score(y_true_classes, y_pred_classes))"
   ]
  },
  {
   "cell_type": "code",
   "execution_count": 56,
   "id": "9248c673-7ca5-4b8d-a51c-635433c2798c",
   "metadata": {},
   "outputs": [
    {
     "data": {
      "image/png": "[encoded data removed]",
      "text/plain": [
       "<Figure size 720x576 with 2 Axes>"
      ]
     },
     "metadata": {
      "needs_background": "light"
     },
     "output_type": "display_data"
    }
   ],
   "source": [
    "import matplotlib.pyplot as plt\n",
    "import seaborn as sns\n",
    "\n",
    "# Calculate the confusion matrix\n",
    "cm = confusion_matrix(y_true_classes, y_pred_classes)\n",
    "\n",
    "# Display the confusion matrix\n",
    "plt.figure(figsize=(10, 8))\n",
    "sns.heatmap(cm, annot=True, fmt='d', cmap='Blues', xticklabels=mlb.classes_, yticklabels=mlb.classes_)\n",
    "plt.xlabel('Predicted Label')\n",
    "plt.ylabel('True Label')\n",
    "plt.title('Confusion Matrix')\n",
    "plt.show()\n"
   ]
  },
  {
   "cell_type": "code",
   "execution_count": null,
   "id": "34b14dec-27ef-4f86-8139-9ded434d05b3",
   "metadata": {},
   "outputs": [],
   "source": []
  }
 ],
 "metadata": {
  "kernelspec": {
   "display_name": "Python 3 (ipykernel)",
   "language": "python",
   "name": "python3"
  },
  "language_info": {
   "codemirror_mode": {
    "name": "ipython",
    "version": 3
   },
   "file_extension": ".py",
   "mimetype": "text/x-python",
   "name": "python",
   "nbconvert_exporter": "python",
   "pygments_lexer": "ipython3",
   "version": "3.10.12"
  }
 },
 "nbformat": 4,
 "nbformat_minor": 5
}
